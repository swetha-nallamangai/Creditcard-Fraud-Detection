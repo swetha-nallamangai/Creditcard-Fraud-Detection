{
  "nbformat": 4,
  "nbformat_minor": 0,
  "metadata": {
    "colab": {
      "provenance": [],
      "gpuType": "T4"
    },
    "kernelspec": {
      "name": "python3",
      "display_name": "Python 3"
    },
    "language_info": {
      "name": "python"
    },
    "accelerator": "GPU"
  },
  "cells": [
    {
      "cell_type": "code",
      "execution_count": null,
      "metadata": {
        "id": "PX-OeDU-bZtx",
        "colab": {
          "base_uri": "https://localhost:8080/"
        },
        "outputId": "a7dee6bc-6c81-4630-a68c-903dd96681e8"
      },
      "outputs": [
        {
          "output_type": "stream",
          "name": "stdout",
          "text": [
            "Collecting pyspark\n",
            "  Downloading pyspark-3.5.0.tar.gz (316.9 MB)\n",
            "\u001b[2K     \u001b[90m━━━━━━━━━━━━━━━━━━━━━━━━━━━━━━━━━━━━━━━━\u001b[0m \u001b[32m316.9/316.9 MB\u001b[0m \u001b[31m4.7 MB/s\u001b[0m eta \u001b[36m0:00:00\u001b[0m\n",
            "\u001b[?25h  Preparing metadata (setup.py) ... \u001b[?25l\u001b[?25hdone\n",
            "Requirement already satisfied: py4j==0.10.9.7 in /usr/local/lib/python3.10/dist-packages (from pyspark) (0.10.9.7)\n",
            "Building wheels for collected packages: pyspark\n",
            "  Building wheel for pyspark (setup.py) ... \u001b[?25l\u001b[?25hdone\n",
            "  Created wheel for pyspark: filename=pyspark-3.5.0-py2.py3-none-any.whl size=317425344 sha256=4102e580f58feea28e20030074874d30f2ae99e2fb7f00d64e9e129df7a836c3\n",
            "  Stored in directory: /root/.cache/pip/wheels/41/4e/10/c2cf2467f71c678cfc8a6b9ac9241e5e44a01940da8fbb17fc\n",
            "Successfully built pyspark\n",
            "Installing collected packages: pyspark\n",
            "Successfully installed pyspark-3.5.0\n"
          ]
        }
      ],
      "source": [
        "!pip install pyspark\n"
      ]
    },
    {
      "cell_type": "code",
      "source": [
        "from pyspark.sql import SparkSession\n",
        "spark=SparkSession.builder.appName(\"Fraud-Detection\").getOrCreate()"
      ],
      "metadata": {
        "id": "DCEucJhFi8Dt"
      },
      "execution_count": null,
      "outputs": []
    },
    {
      "cell_type": "code",
      "source": [
        "from google.colab import drive\n",
        "drive.mount('/content/drive')"
      ],
      "metadata": {
        "colab": {
          "base_uri": "https://localhost:8080/"
        },
        "id": "YN5GGuBz-o64",
        "outputId": "9498f8d0-0536-4c7b-e85e-9a01157d38d0"
      },
      "execution_count": null,
      "outputs": [
        {
          "output_type": "stream",
          "name": "stdout",
          "text": [
            "Mounted at /content/drive\n"
          ]
        }
      ]
    },
    {
      "cell_type": "code",
      "source": [
        "df = spark.read.csv(\"/content/drive/MyDrive/Google Drive/creditcard.csv\", header=True, inferSchema=True)\n",
        "df.show()"
      ],
      "metadata": {
        "colab": {
          "base_uri": "https://localhost:8080/"
        },
        "id": "8iT6MwIqjTZq",
        "outputId": "daf59e74-2563-48c8-dbb5-bb4e06f40284"
      },
      "execution_count": null,
      "outputs": [
        {
          "output_type": "stream",
          "name": "stdout",
          "text": [
            "+----+------------------+-------------------+------------------+-------------------+-------------------+-------------------+--------------------+-------------------+------------------+-------------------+------------------+------------------+-------------------+-------------------+-------------------+-------------------+--------------------+-------------------+-------------------+-------------------+--------------------+-------------------+-------------------+-------------------+-------------------+-------------------+--------------------+-------------------+------+-----+\n",
            "|Time|                V1|                 V2|                V3|                 V4|                 V5|                 V6|                  V7|                 V8|                V9|                V10|               V11|               V12|                V13|                V14|                V15|                V16|                 V17|                V18|                V19|                V20|                 V21|                V22|                V23|                V24|                V25|                V26|                 V27|                V28|Amount|Class|\n",
            "+----+------------------+-------------------+------------------+-------------------+-------------------+-------------------+--------------------+-------------------+------------------+-------------------+------------------+------------------+-------------------+-------------------+-------------------+-------------------+--------------------+-------------------+-------------------+-------------------+--------------------+-------------------+-------------------+-------------------+-------------------+-------------------+--------------------+-------------------+------+-----+\n",
            "| 0.0|  -1.3598071336738|-0.0727811733098497|  2.53634673796914|   1.37815522427443| -0.338320769942518|  0.462387777762292|   0.239598554061257| 0.0986979012610507| 0.363786969611213| 0.0907941719789316|-0.551599533260813|-0.617800855762348| -0.991389847235408| -0.311169353699879|   1.46817697209427| -0.470400525259478|   0.207971241929242| 0.0257905801985591|  0.403992960255733|  0.251412098239705|  -0.018306777944153|  0.277837575558899| -0.110473910188767| 0.0669280749146731|  0.128539358273528| -0.189114843888824|   0.133558376740387|-0.0210530534538215|149.62|    0|\n",
            "| 0.0|  1.19185711131486|   0.26615071205963|  0.16648011335321|  0.448154078460911| 0.0600176492822243|-0.0823608088155687| -0.0788029833323113| 0.0851016549148104|-0.255425128109186| -0.166974414004614|  1.61272666105479|  1.06523531137287|   0.48909501589608| -0.143772296441519|  0.635558093258208|  0.463917041022171|  -0.114804663102346| -0.183361270123994| -0.145783041325259|-0.0690831352230203|  -0.225775248033138| -0.638671952771851|  0.101288021253234| -0.339846475529127|  0.167170404418143|  0.125894532368176|-0.00898309914322813| 0.0147241691924927|  2.69|    0|\n",
            "| 1.0| -1.35835406159823|  -1.34016307473609|  1.77320934263119|  0.379779593034328| -0.503198133318193|   1.80049938079263|   0.791460956450422|  0.247675786588991| -1.51465432260583|  0.207642865216696| 0.624501459424895| 0.066083685268831|  0.717292731410831| -0.165945922763554|   2.34586494901581|  -2.89008319444231|    1.10996937869599| -0.121359313195888|  -2.26185709530414|  0.524979725224404|   0.247998153469754|  0.771679401917229|  0.909412262347719| -0.689280956490685| -0.327641833735251| -0.139096571514147| -0.0553527940384261|-0.0597518405929204|378.66|    0|\n",
            "| 1.0|-0.966271711572087| -0.185226008082898|  1.79299333957872| -0.863291275036453|-0.0103088796030823|   1.24720316752486|    0.23760893977178|  0.377435874652262| -1.38702406270197|-0.0549519224713749|-0.226487263835401| 0.178228225877303|  0.507756869957169|  -0.28792374549456| -0.631418117709045|   -1.0596472454325|  -0.684092786345479|   1.96577500349538|   -1.2326219700892| -0.208037781160366|  -0.108300452035545|0.00527359678253453| -0.190320518742841|  -1.17557533186321|  0.647376034602038| -0.221928844458407|  0.0627228487293033| 0.0614576285006353| 123.5|    0|\n",
            "| 2.0| -1.15823309349523|  0.877736754848451|    1.548717846511|  0.403033933955121| -0.407193377311653| 0.0959214624684256|   0.592940745385545| -0.270532677192282| 0.817739308235294|  0.753074431976354|-0.822842877946363|  0.53819555014995|    1.3458515932154|  -1.11966983471731|  0.175121130008994| -0.451449182813529|  -0.237033239362776|-0.0381947870352842|  0.803486924960175|  0.408542360392758|-0.00943069713232919|   0.79827849458971| -0.137458079619063|  0.141266983824769| -0.206009587619756|  0.502292224181569|   0.219422229513348|  0.215153147499206| 69.99|    0|\n",
            "| 2.0|-0.425965884412454|  0.960523044882985|  1.14110934232219| -0.168252079760302|   0.42098688077219|-0.0297275516639742|   0.476200948720027|  0.260314333074874| -0.56867137571251| -0.371407196834471|  1.34126198001957| 0.359893837038039| -0.358090652573631| -0.137133700217612|  0.517616806555742|  0.401725895589603| -0.0581328233640131| 0.0686531494425432|-0.0331937877876282| 0.0849676720682049|  -0.208253514656728| -0.559824796253248|-0.0263976679795373| -0.371426583174346| -0.232793816737034|  0.105914779097957|   0.253844224739337| 0.0810802569229443|  3.67|    0|\n",
            "| 4.0|  1.22965763450793|  0.141003507049326|0.0453707735899449|   1.20261273673594|  0.191880988597645|  0.272708122899098|-0.00515900288250983| 0.0812129398830894| 0.464959994783886|-0.0992543211289237| -1.41690724314928|-0.153825826253651|  -0.75106271556262|   0.16737196252175| 0.0501435942254188| -0.443586797916727| 0.00282051247234708|  -0.61198733994012|-0.0455750446637976|  -0.21963255278686|  -0.167716265815783| -0.270709726172363| -0.154103786809305| -0.780055415004671|   0.75013693580659| -0.257236845917139|  0.0345074297438413|0.00516776890624916|  4.99|    0|\n",
            "| 7.0|-0.644269442348146|   1.41796354547385|   1.0743803763556| -0.492199018495015|  0.948934094764157|  0.428118462833089|    1.12063135838353|  -3.80786423873589| 0.615374730667027|   1.24937617815176|-0.619467796121913| 0.291474353088705|   1.75796421396042|  -1.32386521970526|  0.686132504394383|-0.0761269994382006|    -1.2221273453247| -0.358221569869078|  0.324504731321494| -0.156741852488285|    1.94346533978412|  -1.01545470979971|  0.057503529867291| -0.649709005559993| -0.415266566234811|-0.0516342969262494|   -1.20692108094258|  -1.08533918832377|  40.8|    0|\n",
            "| 7.0| -0.89428608220282|  0.286157196276544|-0.113192212729871| -0.271526130088604|    2.6695986595986|   3.72181806112751|   0.370145127676916|  0.851084443200905|-0.392047586798604| -0.410430432848439|-0.705116586646536|-0.110452261733098| -0.286253632470583| 0.0743553603016731| -0.328783050303565| -0.210077268148783|  -0.499767968800267|  0.118764861004217|   0.57032816746536| 0.0527356691149697| -0.0734251001059225| -0.268091632235551| -0.204232669947878|    1.0115918018785|  0.373204680146282| -0.384157307702294|  0.0117473564581996|   0.14240432992147|  93.2|    0|\n",
            "| 9.0| -0.33826175242575|   1.11959337641566|  1.04436655157316| -0.222187276738296|   0.49936080649727|  -0.24676110061991|   0.651583206489972| 0.0695385865186387|-0.736727316364109| -0.366845639206541|  1.01761446783262| 0.836389570307029|   1.00684351373408| -0.443522816876142|  0.150219101422635|  0.739452777052119|  -0.540979921943059|   0.47667726004282|  0.451772964394125|  0.203711454727929|  -0.246913936910008| -0.633752642406113|  -0.12079408408185| -0.385049925313426|-0.0697330460416923| 0.0941988339514961|   0.246219304619926| 0.0830756493473326|  3.68|    0|\n",
            "|10.0|  1.44904378114715|  -1.17633882535966| 0.913859832832795|  -1.37566665499943|  -1.97138316545323|  -0.62915213889734|    -1.4232356010359| 0.0484558879088564| -1.72040839292037|   1.62665905834133|   1.1996439495421|-0.671439778462005| -0.513947152539479|-0.0950450453999549|  0.230930409124119| 0.0319674667862076|   0.253414715863197|  0.854343814324194| -0.221365413645481| -0.387226474431156|-0.00930189652490052|  0.313894410791098| 0.0277401580170247|  0.500512287104917|   0.25136735874921| -0.129477953726618|  0.0428498709381461| 0.0162532619375515|   7.8|    0|\n",
            "|10.0|  0.38497821518095|  0.616109459176472|-0.874299702595052|-0.0940186259679115|   2.92458437838817|   3.31702716826156|   0.470454671805879|   0.53824722837695|-0.558894612428441|   0.30975539423728|-0.259115563735702|-0.326143233995877|-0.0900467227020648|  0.362832368569793|  0.928903660629178| -0.129486811402759|  -0.809978925963589|  0.359985390219981|   0.70766382644648|   0.12599157561542|   0.049923685888971|  0.238421512225103|0.00912986861262866|  0.996710209581086| -0.767314827174801| -0.492208295340017|   0.042472441919027|-0.0543373883732122|  9.99|    0|\n",
            "|10.0|    1.249998742053|  -1.22163680921816| 0.383930151282291|  -1.23489868766892|  -1.48541947377961| -0.753230164566149|  -0.689404975426345| -0.227487227519552| -2.09401057344842|   1.32372927445937| 0.227666231237246|-0.242681998944186|   1.20541680770748| -0.317630527025074|  0.725674990179153| -0.815612186027305|   0.873936447614439| -0.847788598847099| -0.683192626267037| -0.102755941505071|  -0.231809239223849| -0.483285330117712| 0.0846676908596583|  0.392830885335013|  0.161134553588505| -0.354990039673962|  0.0264155490776107| 0.0424220887282304| 121.5|    0|\n",
            "|11.0|   1.0693735878819|  0.287722129331455| 0.828612726634281|   2.71252042961718| -0.178398016248009|  0.337543730282968| -0.0967168617395962|  0.115981735546597|-0.221082566236194|  0.460230444301678|-0.773656930526689|  0.32338724546722|-0.0110758870883779| -0.178485175177916|  -0.65556427824926|  -0.19992517131173|     0.1240054151819| -0.980496201537345| -0.982916082135047| -0.153197231044512| -0.0368755317335273| 0.0744124028162195|-0.0714074332998586|  0.104743752596029|  0.548264725394119|  0.104094153162781|  0.0214910583643189|  0.021293311477486|  27.5|    0|\n",
            "|12.0|  -2.7918547659339| -0.327770756658658|  1.64175016056605|   1.76747274389883| -0.136588446465306|   0.80759646826532|  -0.422911389711497|  -1.90710747624096| 0.755712908314791|    1.1510869876677| 0.844555470974377|   0.7929439518176|  0.370448092803246| -0.734975105820311|  0.406795710431001| -0.303057623825763|  -0.155868714793874|  0.778265457041536|   2.22186801373788|  -1.58212204356551|    1.15166304848789|  0.222181966098225|   1.02058620426601| 0.0283166513238872| -0.232746324289105|  -0.23555721754117|   -0.16477751177654|-0.0301536365592253|  58.8|    0|\n",
            "|12.0|-0.752417042956605|  0.345485415344747|  2.05732291276727|  -1.46864329840046|   -1.1583936804082|-0.0778498291166733|  -0.608581418236123|0.00360348436201849|-0.436166983515744|  0.747730827192802|-0.793980602837221|-0.770406728847129|   1.04762699748088|  -1.06660368148653|   1.10695345662141|   1.66011355713381|  -0.279265373246772| -0.419994141181313|  0.432535348618175|  0.263450864446125|   0.499624954671111|   1.35365048557231| -0.256573280448308|-0.0650837078816517|-0.0391243535426488|-0.0870864732146962|  -0.180997500092721|  0.129394059390202| 15.99|    0|\n",
            "|12.0|  1.10321543528383|-0.0402962145973447|   1.2673320885949|   1.28909146962552| -0.735997163604068|  0.288069162976262|  -0.586056786337461|  0.189379713679593| 0.782332891785191| -0.267975066537173|-0.450311279515466| 0.936707714991982|  0.708380406186981| -0.468647287707221|  0.354574063407955| -0.246634655717582|-0.00921237772707382| -0.595912405700819|  -0.57568162226261| -0.113910176982092| -0.0246120063374677|  0.196001952806192| 0.0138016541409422|  0.103758331023198|  0.364297540595235| -0.382260574113217|   0.092809187460487| 0.0370505169810008| 12.99|    0|\n",
            "|13.0|-0.436905071360625|  0.918966212909322|  0.92459077438817| -0.727219053596792|  0.915678718106307| -0.127867352079254|   0.707641607333935| 0.0879623554672504| -0.66527135413364| -0.737979823596458|  0.32409781346169| 0.277192107214981|  0.252624256310781| -0.291896460370468| -0.184520169327133|   1.14317370716197|   -0.92870926272403|  0.680469592634687| 0.0254364616880793|-0.0470212823165035|  -0.194795823794671| -0.672637997017793| -0.156857514491897| -0.888386320943716| -0.342413218776576| -0.049026728633951|  0.0796923991551505|  0.131023789452311|  0.89|    0|\n",
            "|14.0| -5.40125766315825|  -5.45014783420644|  1.18630463143652|   1.73623880012095|   3.04910587764025|  -1.76340557365201|   -1.55973769907953|  0.160841747266769|  1.23308974041888|  0.345172827050629| 0.917229867699146| 0.970116716069048| -0.266567764915222| -0.479129929276704| -0.526608502569153|   0.47200411177674|  -0.725480944982201|  0.075081351540202| -0.406866573198217|  -2.19684802485647|  -0.503600328973703|  0.984459785590244|   2.45858857639219| 0.0421188969891572| -0.481630823956716| -0.621272013713977|   0.392053289557744|  0.949594245504846|  46.8|    0|\n",
            "|15.0|   1.4929359769862|  -1.02934573189487|  0.45479473374366|  -1.43802587991702|  -1.55543410136344| -0.720961147043557|   -1.08066413038614|-0.0531271179483221|  -1.9786815953872|   1.63807603690446|  1.07754241162743| -0.63204651464934|  -0.41695716661602| 0.0520105153724404|-0.0429789228232019| -0.166432496451972|   0.304241418614353|  0.554432499062278| 0.0542295152184719| -0.387910172646258|  -0.177649846438814| -0.175073809074822| 0.0400022190621329|  0.295813862676508|   0.33293059939425| -0.220384850672322|  0.0222984359135846|0.00760225559997897|   5.0|    0|\n",
            "+----+------------------+-------------------+------------------+-------------------+-------------------+-------------------+--------------------+-------------------+------------------+-------------------+------------------+------------------+-------------------+-------------------+-------------------+-------------------+--------------------+-------------------+-------------------+-------------------+--------------------+-------------------+-------------------+-------------------+-------------------+-------------------+--------------------+-------------------+------+-----+\n",
            "only showing top 20 rows\n",
            "\n"
          ]
        }
      ]
    },
    {
      "cell_type": "code",
      "source": [
        "df.printSchema()"
      ],
      "metadata": {
        "id": "iCYF78QvkUn3",
        "colab": {
          "base_uri": "https://localhost:8080/"
        },
        "outputId": "d5d9913e-8e33-4e9d-f62e-dfd688ec8b47"
      },
      "execution_count": null,
      "outputs": [
        {
          "output_type": "stream",
          "name": "stdout",
          "text": [
            "root\n",
            " |-- Time: double (nullable = true)\n",
            " |-- V1: double (nullable = true)\n",
            " |-- V2: double (nullable = true)\n",
            " |-- V3: double (nullable = true)\n",
            " |-- V4: double (nullable = true)\n",
            " |-- V5: double (nullable = true)\n",
            " |-- V6: double (nullable = true)\n",
            " |-- V7: double (nullable = true)\n",
            " |-- V8: double (nullable = true)\n",
            " |-- V9: double (nullable = true)\n",
            " |-- V10: double (nullable = true)\n",
            " |-- V11: double (nullable = true)\n",
            " |-- V12: double (nullable = true)\n",
            " |-- V13: double (nullable = true)\n",
            " |-- V14: double (nullable = true)\n",
            " |-- V15: double (nullable = true)\n",
            " |-- V16: double (nullable = true)\n",
            " |-- V17: double (nullable = true)\n",
            " |-- V18: double (nullable = true)\n",
            " |-- V19: double (nullable = true)\n",
            " |-- V20: double (nullable = true)\n",
            " |-- V21: double (nullable = true)\n",
            " |-- V22: double (nullable = true)\n",
            " |-- V23: double (nullable = true)\n",
            " |-- V24: double (nullable = true)\n",
            " |-- V25: double (nullable = true)\n",
            " |-- V26: double (nullable = true)\n",
            " |-- V27: double (nullable = true)\n",
            " |-- V28: double (nullable = true)\n",
            " |-- Amount: double (nullable = true)\n",
            " |-- Class: integer (nullable = true)\n",
            "\n"
          ]
        }
      ]
    },
    {
      "cell_type": "code",
      "source": [
        "df.describe().show()"
      ],
      "metadata": {
        "id": "_ZiRF8PkkcSD",
        "colab": {
          "base_uri": "https://localhost:8080/"
        },
        "outputId": "e9e11db5-d7a5-4609-bf64-5e7e928c77a3"
      },
      "execution_count": null,
      "outputs": [
        {
          "output_type": "stream",
          "name": "stdout",
          "text": [
            "+-------+------------------+--------------------+--------------------+--------------------+--------------------+--------------------+--------------------+--------------------+--------------------+--------------------+--------------------+--------------------+--------------------+--------------------+--------------------+--------------------+--------------------+--------------------+--------------------+--------------------+--------------------+--------------------+--------------------+--------------------+--------------------+--------------------+--------------------+--------------------+--------------------+------------------+--------------------+\n",
            "|summary|              Time|                  V1|                  V2|                  V3|                  V4|                  V5|                  V6|                  V7|                  V8|                  V9|                 V10|                 V11|                 V12|                 V13|                 V14|                 V15|                 V16|                 V17|                 V18|                 V19|                 V20|                 V21|                 V22|                 V23|                 V24|                 V25|                 V26|                 V27|                 V28|            Amount|               Class|\n",
            "+-------+------------------+--------------------+--------------------+--------------------+--------------------+--------------------+--------------------+--------------------+--------------------+--------------------+--------------------+--------------------+--------------------+--------------------+--------------------+--------------------+--------------------+--------------------+--------------------+--------------------+--------------------+--------------------+--------------------+--------------------+--------------------+--------------------+--------------------+--------------------+--------------------+------------------+--------------------+\n",
            "|  count|            284807|              284807|              284807|              284807|              284807|              284807|              284807|              284807|              284807|              284807|              284807|              284807|              284807|              284807|              284807|              284807|              284807|              284807|              284807|              284807|              284807|              284807|              284807|              284807|              284807|              284807|              284807|              284807|              284807|            284807|              284807|\n",
            "|   mean| 94813.85957508067|5.109395214431826...|2.554697607215913...|-8.63487791238978...|3.525482697957960...|2.043758085772730...|2.088465293899009...|-2.28645435845824...|-3.57657665010227...|-1.34121624378835...|1.900056345366835...|2.05653157380881E-15|-2.67285237154964...|7.887628862279132...|1.497691472230329...|2.707979463648868...|1.444202491079246...|-3.19337200901989...|3.640444090282676...|9.468348006743977...|1.820222045141338...|2.554697607215913...|8.941441625255696...|7.664092821647739...|4.515428020754126...|1.545592052365627...|1.737194372906821...|-3.54564085876489...|-1.31127838120379...|  88.3496192509508|0.001727485630620034|\n",
            "| stddev|47488.145954566906|  1.9586958038574882|   1.651308579476995|  1.5162550051777774|  1.4158685749409223|  1.3802467340314277|  1.3322710897575698|  1.2370935981826607|  1.1943529026691984|  1.0986320892243164|  1.0888497654025246|  1.0207130277115635|  0.9992013895301407|  0.9952742301251535|   0.958595611257067|  0.9153160116104393|  0.8762528873883741|  0.8493370636743898|  0.8381762095288434|  0.8140405007685821|  0.7709250248871147|  0.7345240143713111|  0.7257015604409144|  0.6244602955949919|   0.605647067827159|  0.5212780705409377| 0.48222701326105777|  0.4036324949650308| 0.33008326416025036|250.12010924018736| 0.04152718963546528|\n",
            "|    min|               0.0|    -56.407509631329|   -72.7157275629303|   -48.3255893623954|   -5.68317119816995|   -113.743306711146|   -26.1605059358433|   -43.5572415712451|   -73.2167184552674|   -13.4340663182301|   -24.5882624372475|   -4.79747346479757|   -18.6837146333443|   -5.79188120632084|   -19.2143254902614|   -4.49894467676621|   -14.1298545174931|   -25.1627993693248|   -9.49874592104677|   -7.21352743017759|    -54.497720494566|   -34.8303821448146|    -10.933143697655|   -44.8077352037913|   -2.83662691870341|   -10.2953970749851|   -2.60455055280817|   -22.5656793207827|   -15.4300839055349|               0.0|                   0|\n",
            "|    max|          172792.0|    2.45492999121121|    22.0577289904909|    9.38255843282114|    16.8753440335975|    34.8016658766686|    73.3016255459646|    120.589493945238|    20.0072083651213|    15.5949946071278|    23.7451361206545|    12.0189131816199|     7.8483920756446|    7.12688295859376|    10.5267660517847|    8.87774159774277|    17.3151115176278|    9.25352625047285|    5.04106918541184|    5.59197142733558|    39.4209042482199|    27.2028391573154|    10.5030900899454|    22.5284116897749|    4.58454913689817|    7.51958867870916|     3.5173456116238|    31.6121981061363|    33.8478078188831|          25691.16|                   1|\n",
            "+-------+------------------+--------------------+--------------------+--------------------+--------------------+--------------------+--------------------+--------------------+--------------------+--------------------+--------------------+--------------------+--------------------+--------------------+--------------------+--------------------+--------------------+--------------------+--------------------+--------------------+--------------------+--------------------+--------------------+--------------------+--------------------+--------------------+--------------------+--------------------+--------------------+------------------+--------------------+\n",
            "\n"
          ]
        }
      ]
    },
    {
      "cell_type": "code",
      "source": [
        "df.count()"
      ],
      "metadata": {
        "id": "0Ng8GAWfkhfv",
        "colab": {
          "base_uri": "https://localhost:8080/"
        },
        "outputId": "78a15877-fa28-441b-cd14-3fc6236da630"
      },
      "execution_count": null,
      "outputs": [
        {
          "output_type": "execute_result",
          "data": {
            "text/plain": [
              "284807"
            ]
          },
          "metadata": {},
          "execution_count": 7
        }
      ]
    },
    {
      "cell_type": "code",
      "source": [
        "from pyspark.sql.functions import col, sum\n",
        "missing_counts = df.agg(*[sum(col(c).isNull().cast(\"int\")).alias(c) for c in df.columns])\n",
        "missing_counts.show()\n"
      ],
      "metadata": {
        "id": "CzwYEa8PkxMq",
        "colab": {
          "base_uri": "https://localhost:8080/"
        },
        "outputId": "ba30703b-419f-4783-b690-61c5378c0e32"
      },
      "execution_count": null,
      "outputs": [
        {
          "output_type": "stream",
          "name": "stdout",
          "text": [
            "+----+---+---+---+---+---+---+---+---+---+---+---+---+---+---+---+---+---+---+---+---+---+---+---+---+---+---+---+---+------+-----+\n",
            "|Time| V1| V2| V3| V4| V5| V6| V7| V8| V9|V10|V11|V12|V13|V14|V15|V16|V17|V18|V19|V20|V21|V22|V23|V24|V25|V26|V27|V28|Amount|Class|\n",
            "+----+---+---+---+---+---+---+---+---+---+---+---+---+---+---+---+---+---+---+---+---+---+---+---+---+---+---+---+---+------+-----+\n",
            "|   0|  0|  0|  0|  0|  0|  0|  0|  0|  0|  0|  0|  0|  0|  0|  0|  0|  0|  0|  0|  0|  0|  0|  0|  0|  0|  0|  0|  0|     0|    0|\n",
            "+----+---+---+---+---+---+---+---+---+---+---+---+---+---+---+---+---+---+---+---+---+---+---+---+---+---+---+---+---+------+-----+\n",
            "\n"
          ]
        }
      ]
    },
    {
      "cell_type": "code",
      "source": [
        "df.groupby(\"Class\").count().show()"
      ],
      "metadata": {
        "id": "h5-fAsvNF1lr",
        "colab": {
          "base_uri": "https://localhost:8080/"
        },
        "outputId": "1f304bab-5b7d-4a6c-f435-7b7fb42ba28f"
      },
      "execution_count": null,
      "outputs": [
        {
          "output_type": "stream",
          "name": "stdout",
          "text": [
            "+-----+------+\n",
            "|Class| count|\n",
            "+-----+------+\n",
            "|    1|   492|\n",
            "|    0|284315|\n",
            "+-----+------+\n",
            "\n"
          ]
        }
      ]
    },
    {
      "cell_type": "code",
      "source": [
        "import matplotlib.pyplot as plt\n",
        "class_counts = df.groupBy(\"Class\").count().toPandas()\n",
        "plt.figure(figsize=(8, 6))\n",
        "plt.bar(class_counts[\"Class\"], class_counts[\"count\"], color=['green', 'red'])\n",
        "plt.xlabel(\"Class\")\n",
        "plt.ylabel(\"Count\")\n",
        "plt.title(\"Class Distribution\")\n",
        "plt.xticks(class_counts[\"Class\"], [\"Fraudulent\", \"legitimate\"])\n",
        "plt.show()\n"
      ],
      "metadata": {
        "id": "X_-Ubc7eGocj",
        "colab": {
          "base_uri": "https://localhost:8080/",
          "height": 564
        },
        "outputId": "27c90565-cbd4-4120-8bdd-4fdee8d2901d"
      },
      "execution_count": null,
      "outputs": [
        {
          "output_type": "display_data",
          "data": {
            "text/plain": [
              "<Figure size 800x600 with 1 Axes>"
            ],
            "image/png": "[encoded data removed]"
          },
          "metadata": {}
        }
      ]
    },
    {
      "cell_type": "code",
      "source": [
        "minority_df = df.filter(col(\"Class\") == 1)\n",
        "majority_df = df.filter(col(\"Class\") == 0)\n",
        "ratio = minority_df.count() / majority_df.count()\n",
        "undersampled_majority_df = majority_df.sample(False, ratio, seed=123)\n",
        "balanced_df = undersampled_majority_df.union(minority_df)"
      ],
      "metadata": {
        "id": "-IUKClS8JESw"
      },
      "execution_count": null,
      "outputs": []
    },
    {
      "cell_type": "code",
      "source": [
        "balanced_df.groupBy(\"Class\").count().show()"
      ],
      "metadata": {
        "id": "y8R0TepgJOgH",
        "colab": {
          "base_uri": "https://localhost:8080/"
        },
        "outputId": "35857b28-eea1-41f7-fd73-b26163d5495d"
      },
      "execution_count": null,
      "outputs": [
        {
          "output_type": "stream",
          "name": "stdout",
          "text": [
            "+-----+-----+\n",
            "|Class|count|\n",
            "+-----+-----+\n",
            "|    0|  471|\n",
            "|    1|  492|\n",
            "+-----+-----+\n",
            "\n"
          ]
        }
      ]
    },
    {
      "cell_type": "code",
      "source": [
        "balanced_class_counts = balanced_df.groupBy(\"Class\").count().toPandas()\n",
        "plt.figure(figsize=(8, 6))\n",
        "plt.bar(balanced_class_counts[\"Class\"], balanced_class_counts[\"count\"], color=['green', 'red'])\n",
        "plt.xlabel(\"Class\")\n",
        "plt.ylabel(\"Count\")\n",
        "plt.title(\"Class Distribution (Balanced Data)\")\n",
        "plt.xticks(balanced_class_counts[\"Class\"], [\"Legitimate\", \"Fraudulent\"])\n",
        "plt.show()"
      ],
      "metadata": {
        "id": "QfREGJ4aMZ0n",
        "colab": {
          "base_uri": "https://localhost:8080/",
          "height": 564
        },
        "outputId": "948a2f15-7119-4eac-bf32-7930a026dbf1"
      },
      "execution_count": null,
      "outputs": [
        {
          "output_type": "display_data",
          "data": {
            "text/plain": [
              "<Figure size 800x600 with 1 Axes>"
            ],
            "image/png": "[encoded data removed]"
          },
          "metadata": {}
        }
      ]
    },
    {
      "cell_type": "code",
      "source": [
        "from pyspark.ml.feature import VectorAssembler\n",
        "assembler = VectorAssembler(inputCols=[col for col in balanced_df.columns if col != \"Class\"],\n",
        "                           outputCol=\"features\")\n",
        "dataset = assembler.transform(balanced_df)"
      ],
      "metadata": {
        "id": "-g3FeY3RH5R8"
      },
      "execution_count": null,
      "outputs": []
    },
    {
      "cell_type": "code",
      "source": [
        "\n",
        "dataset.show(5)"
      ],
      "metadata": {
        "id": "ieFGm4bIINeO",
        "colab": {
          "base_uri": "https://localhost:8080/"
        },
        "outputId": "54f0c224-289e-464e-9301-5832da9bae4c"
      },
      "execution_count": null,
      "outputs": [
        {
          "output_type": "stream",
          "name": "stdout",
          "text": [
            "+------+-----------------+------------------+-----------------+-----------------+------------------+------------------+-------------------+-------------------+------------------+-------------------+------------------+-----------------+-------------------+------------------+------------------+-------------------+------------------+------------------+------------------+------------------+------------------+------------------+------------------+------------------+------------------+------------------+--------------------+------------------+------+-----+--------------------+\n",
            "|  Time|               V1|                V2|               V3|               V4|                V5|                V6|                 V7|                 V8|                V9|                V10|               V11|              V12|                V13|               V14|               V15|                V16|               V17|               V18|               V19|               V20|               V21|               V22|               V23|               V24|               V25|               V26|                 V27|               V28|Amount|Class|            features|\n",
            "+------+-----------------+------------------+-----------------+-----------------+------------------+------------------+-------------------+-------------------+------------------+-------------------+------------------+-----------------+-------------------+------------------+------------------+-------------------+------------------+------------------+------------------+------------------+------------------+------------------+------------------+------------------+------------------+------------------+--------------------+------------------+------+-----+--------------------+\n",
            "| 328.0| -4.2364194365614| -4.45978420817933| 1.38181330753237|   1.117079983866|  6.04448632417373| -3.49844717455499|  -2.74089249524011|  0.372155021989722|-0.214338183400329| -0.242299844238643| -1.68184422142821|0.605227561748964|   1.70299548484522|0.0754578904558116| 0.565157459769119|  0.515252808861653| -1.18463076442973|  0.38155908706706|-0.280158912665367|  1.39409341078279| 0.397071817427759|-0.432517322445141| 0.612506739185081| -1.01636197197221| 0.630372560196861|-0.498140915033867| -0.0947744893726817| 0.208038267368797|   2.5|    0|[328.0,-4.2364194...|\n",
            "| 599.0|0.142623031085026| 0.615164602555194|  1.4215469925973| 1.29121735809183| -0.61799716922571|-0.428987746432248|  0.678547976171663| -0.367664403623437| 0.162606581131061|  0.270924218440451|-0.367729528391386|0.131576417215044|-0.0929870346182179|-0.286104225916766| 0.421350576291474|  -1.08750136370836| 0.541915715656718|-0.464147857798045|  1.78234107407874| 0.118753324343239|-0.118523734103548|0.0739006450306557| 0.295626882781679|  0.74064572022135| -1.54420934515933| 0.133509983769342|-0.00146588876790675|0.0148129316682875| 55.61|    0|[599.0,0.14262303...|\n",
            "| 758.0| 1.19519127138882| 0.164981643880673|0.608915328282132|0.653733944125657| -0.51161034817632|-0.725919182970613|-0.0551234656389155|-0.0499000242730368| 0.119843037855709|-0.0903811393659534| 0.183991622568234|0.208131187420986|   -0.4279167917051| 0.419562100898434|  1.33284165629264|-0.0537961960964934|0.0121375190109133| -1.01631343726278|-0.595658868516383|-0.179902324875629|-0.216481539371151|-0.623973795916533|  0.21507230739731| 0.376696218573818|0.0788021046734884| 0.106358277597961| -0.0163464062691794|0.0173503819036471|  0.99|    0|[758.0,1.19519127...|\n",
            "|1631.0| 1.44827389384631| -1.06473221966529| 0.94568603570468|-1.39025257659779| -1.83094950048742|-0.591090947690099|  -1.31439957108537|-0.0418286160811558| -1.96046212193354|   1.57965149019942|  1.46989445560756|0.171365536604075|   1.07085537164824|-0.410178522886393|0.0571957632184437|-0.0422321424020673| 0.162891974647256| 0.660134348622402| -0.23238353557425|-0.283662322342684|0.0095233698718429|   0.4431437270121|0.0078385871394171| 0.543949238015409| 0.304616803003573|-0.134894794239312|  0.0530199991730321|0.0198306426913098|   8.8|    0|[1631.0,1.4482738...|\n",
            "|1634.0| 1.07501912442771|-0.257286753715173| 1.19554291272231| 1.73582659237866|-0.822147977468269| 0.570728428142039| -0.617129569180196|  0.356204245307817|  1.44317029621274| -0.380379866639296| -1.32340375598695|0.307817860025061|  -1.53489383752357|-0.489700496610664| -1.56431548091729|   -1.0868907953443| 0.846979571318803| -1.19784626522067| 0.182393887266598|-0.286207453206709|-0.428927751401169|-0.824377864458903|0.0980872634391731|0.0469489745738206| 0.382196236522728|-0.505681752257405|  0.0826442773080856|0.0263787660369807| 12.61|    0|[1634.0,1.0750191...|\n",
            "+------+-----------------+------------------+-----------------+-----------------+------------------+------------------+-------------------+-------------------+------------------+-------------------+------------------+-----------------+-------------------+------------------+------------------+-------------------+------------------+------------------+------------------+------------------+------------------+------------------+------------------+------------------+------------------+------------------+--------------------+------------------+------+-----+--------------------+\n",
            "only showing top 5 rows\n",
            "\n"
          ]
        }
      ]
    },
    {
      "cell_type": "code",
      "source": [
        "train_data, test_data = dataset.randomSplit([0.7, 0.3], seed=123)"
      ],
      "metadata": {
        "id": "DjhyRqJE3_gF"
      },
      "execution_count": null,
      "outputs": []
    },
    {
      "cell_type": "markdown",
      "source": [
        "RANDOM FOREST\n"
      ],
      "metadata": {
        "id": "LcGzejPT1rcq"
      }
    },
    {
      "cell_type": "code",
      "source": [
        "from pyspark.ml.classification import RandomForestClassifier\n",
        "from pyspark.ml.evaluation import BinaryClassificationEvaluator\n",
        "\n",
        "\n",
        "rf = RandomForestClassifier(labelCol=\"Class\", featuresCol=\"features\")\n",
        "model = rf.fit(train_data)\n",
        "evaluator = BinaryClassificationEvaluator(labelCol=\"Class\", rawPredictionCol=\"prediction\", metricName=\"areaUnderROC\")\n",
        "predictions = model.transform(test_data)\n",
        "auc_randomForest = evaluator.evaluate(predictions)\n",
        "print(\"Area Under ROC:\", auc_randomForest)"
      ],
      "metadata": {
        "id": "82lWOGFeImjZ",
        "colab": {
          "base_uri": "https://localhost:8080/"
        },
        "outputId": "c7fc572d-2a5e-4d69-cbde-06d7a8be5a1c"
      },
      "execution_count": null,
      "outputs": [
        {
          "output_type": "stream",
          "name": "stdout",
          "text": [
            "Area Under ROC: 0.935146773092475\n"
          ]
        }
      ]
    },
    {
      "cell_type": "code",
      "source": [
        "correct_predictions = predictions.filter(predictions[\"Class\"] == predictions[\"prediction\"]).count()\n",
        "total_predictions = predictions.count()\n",
        "accuracy = correct_predictions / total_predictions\n",
        "print(\"Accuracy:\", accuracy)\n"
      ],
      "metadata": {
        "id": "4LoxxXQzmhGN",
        "colab": {
          "base_uri": "https://localhost:8080/"
        },
        "outputId": "cbf3870c-161e-41ff-a6a8-7e6b231db32d"
      },
      "execution_count": null,
      "outputs": [
        {
          "output_type": "stream",
          "name": "stdout",
          "text": [
            "Accuracy: 0.9347826086956522\n"
          ]
        }
      ]
    },
    {
      "cell_type": "markdown",
      "source": [
        "LOGISTIC REGRESSION\n"
      ],
      "metadata": {
        "id": "qV7_H6Sh1vDh"
      }
    },
    {
      "cell_type": "code",
      "source": [
        "from pyspark.ml.classification import LogisticRegression\n",
        "lr = LogisticRegression(labelCol=\"Class\", featuresCol=\"features\")\n",
        "model = lr.fit(train_data)\n",
        "predictions = model.transform(test_data)\n",
        "evaluator = BinaryClassificationEvaluator(labelCol=\"Class\", rawPredictionCol=\"prediction\", metricName=\"areaUnderROC\")\n",
        "auc_regression = evaluator.evaluate(predictions)\n",
        "print(\"Area Under ROC:\", auc_regression)"
      ],
      "metadata": {
        "id": "TEr-OZuHNkGm",
        "colab": {
          "base_uri": "https://localhost:8080/"
        },
        "outputId": "92d1db54-18ee-480f-e781-9d9202299f98"
      },
      "execution_count": null,
      "outputs": [
        {
          "output_type": "stream",
          "name": "stdout",
          "text": [
            "Area Under ROC: 0.9277424775508061\n"
          ]
        }
      ]
    },
    {
      "cell_type": "markdown",
      "source": [
        "DECISION TREE\n"
      ],
      "metadata": {
        "id": "cuAys8-M8hYM"
      }
    },
    {
      "cell_type": "code",
      "source": [
        "\n",
        "from pyspark.ml.classification import DecisionTreeClassifier\n",
        "dt=DecisionTreeClassifier(labelCol=\"Class\", featuresCol=\"features\")\n",
        "model=dt.fit(train_data)\n",
        "predictions=model.transform(test_data)\n",
        "evaluator = BinaryClassificationEvaluator(labelCol=\"Class\", rawPredictionCol=\"prediction\", metricName=\"areaUnderROC\")\n",
        "auc_decision=evaluator.evaluate(predictions)\n",
        "print(\"Area Under ROC: \",auc_decision)\n"
      ],
      "metadata": {
        "id": "4oGyDAmu8gEA",
        "colab": {
          "base_uri": "https://localhost:8080/"
        },
        "outputId": "6fec6d50-0030-45d2-9812-02fa9abb4753"
      },
      "execution_count": null,
      "outputs": [
        {
          "output_type": "stream",
          "name": "stdout",
          "text": [
            "Area Under ROC:  0.9385863571916191\n"
          ]
        }
      ]
    },
    {
      "cell_type": "markdown",
      "source": [
        "GRADIENT_BOOSTED TREES\n"
      ],
      "metadata": {
        "id": "USnXrO999Ia5"
      }
    },
    {
      "cell_type": "code",
      "source": [
        "from pyspark.ml.classification import GBTClassifier\n",
        "\n",
        "gbt = GBTClassifier(labelCol=\"Class\", featuresCol=\"features\", maxIter=10)\n",
        "gbtModel = gbt.fit(train_data)\n",
        "predictions_gbt = gbtModel.transform(test_data)\n",
        "evaluator = BinaryClassificationEvaluator(labelCol=\"Class\", rawPredictionCol=\"prediction\", metricName=\"areaUnderROC\")\n",
        "auc_gbt = evaluator.evaluate(predictions_gbt)\n",
        "print(\"Area Under ROC (GBT without pipeline):\", auc_gbt)\n"
      ],
      "metadata": {
        "id": "PgUrCNBw7hO3",
        "colab": {
          "base_uri": "https://localhost:8080/"
        },
        "outputId": "40d7a081-5d1b-4389-9dc2-c6fe8db3c103"
      },
      "execution_count": null,
      "outputs": [
        {
          "output_type": "stream",
          "name": "stdout",
          "text": [
            "Area Under ROC (GBT without pipeline): 0.9349367221551227\n"
          ]
        }
      ]
    },
    {
      "cell_type": "markdown",
      "source": [
        "LINEAR_SVC"
      ],
      "metadata": {
        "id": "JSiMAV0h9XhB"
      }
    },
    {
      "cell_type": "code",
      "source": [
        "from pyspark.ml.classification import LinearSVC\n",
        "\n",
        "svc = LinearSVC(labelCol=\"Class\", featuresCol=\"features\", maxIter=10)\n",
        "svcModel = svc.fit(train_data)\n",
        "predictions_svc = svcModel.transform(test_data)\n",
        "evaluator = BinaryClassificationEvaluator(labelCol=\"Class\", rawPredictionCol=\"prediction\", metricName=\"areaUnderROC\")\n",
        "auc_svc = evaluator.evaluate(predictions_svc)\n",
        "print(\"Area Under ROC:\", auc_svc)\n"
      ],
      "metadata": {
        "id": "T2tC_joR7jeG",
        "colab": {
          "base_uri": "https://localhost:8080/"
        },
        "outputId": "1c9466d0-9a25-41e0-fdd3-c376a74abb36"
      },
      "execution_count": null,
      "outputs": [
        {
          "output_type": "stream",
          "name": "stdout",
          "text": [
            "Area Under ROC: 0.9314971380559787\n"
          ]
        }
      ]
    },
    {
      "cell_type": "code",
      "source": [
        "import matplotlib.pyplot as plt\n",
        "\n",
        "models = ['Random Forest', 'Logistic Regression', 'Decision Tree', 'GBT', 'LinearSVC']\n",
        "auc_values_without_pipeline = [auc_randomForest, auc_regression, auc_decision, auc_gbt, auc_svc]\n",
        "\n",
        "\n",
        "plt.figure(figsize=(10, 6))\n",
        "plt.bar(models, auc_values_without_pipeline, color=['blue', 'green', 'red', 'purple', 'orange'])\n",
        "plt.xlabel('Models')\n",
        "plt.ylabel('Area Under ROC')\n",
        "plt.title('Comparison of AUC for Different Models (Without Pipeline)')\n",
        "plt.ylim([min(auc_values_without_pipeline)-0.05, max(auc_values_without_pipeline)+0.05])\n",
        "for i in range(len(auc_values_without_pipeline)):\n",
        "    plt.text(i, auc_values_without_pipeline[i], round(auc_values_without_pipeline[i], 3), ha = 'center')\n",
        "plt.show()\n"
      ],
      "metadata": {
        "id": "jkGRRW2c7zZo",
        "colab": {
          "base_uri": "https://localhost:8080/",
          "height": 564
        },
        "outputId": "476f9f9a-4d4c-4673-91b7-0f739f731d0a"
      },
      "execution_count": null,
      "outputs": [
        {
          "output_type": "display_data",
          "data": {
            "text/plain": [
              "<Figure size 1000x600 with 1 Axes>"
            ],
            "image/png": "[encoded data removed]"
          },
          "metadata": {}
        }
      ]
    },
    {
      "cell_type": "markdown",
      "source": [
        "## USING PIPELINE"
      ],
      "metadata": {
        "id": "OUbDhOYQKdKI"
      }
    },
    {
      "cell_type": "code",
      "source": [
        "from pyspark.ml.feature import StandardScaler\n",
        "from pyspark.ml import Pipeline\n",
        "\n",
        "assembler1 = VectorAssembler(inputCols=[col for col in balanced_df.columns if col != \"Class\"], outputCol=\"features_pipeline\")\n",
        "scaler = StandardScaler(inputCol=\"features\", outputCol=\"scaled_features\")\n",
        "\n",
        "dt_model = DecisionTreeClassifier(labelCol=\"Class\", featuresCol=\"features\")\n",
        "rf_model = RandomForestClassifier(labelCol=\"Class\", featuresCol=\"features\")\n",
        "lr_model = LogisticRegression(labelCol=\"Class\", featuresCol=\"features\")"
      ],
      "metadata": {
        "id": "jZSPvsq7oY1m"
      },
      "execution_count": null,
      "outputs": []
    },
    {
      "cell_type": "markdown",
      "source": [
        "DECISION TREE WITH PIPELINE\n"
      ],
      "metadata": {
        "id": "G33Xvi6QQ-r3"
      }
    },
    {
      "cell_type": "code",
      "source": [
        "\n",
        "stages=[assembler1,scaler,dt_model]\n",
        "pipeline=Pipeline(stages=stages)\n",
        "final_pipeline = pipeline.fit(train_data)\n",
        "test_predictions_from_pipeline = final_pipeline.transform(test_data)\n",
        "evaluator = BinaryClassificationEvaluator(labelCol=\"Class\", rawPredictionCol=\"prediction\", metricName=\"areaUnderROC\")\n",
        "auc_decision_pipeline = evaluator.evaluate(predictions)\n",
        "print(f\"Area Under ROC\",auc_decision_pipeline)"
      ],
      "metadata": {
        "id": "D7FvV0nP3LVO",
        "colab": {
          "base_uri": "https://localhost:8080/"
        },
        "outputId": "8131c0bb-999b-4d26-a4f7-27ad3fd13e11"
      },
      "execution_count": null,
      "outputs": [
        {
          "output_type": "stream",
          "name": "stdout",
          "text": [
            "Area Under ROC 0.9385863571916191\n"
          ]
        }
      ]
    },
    {
      "cell_type": "markdown",
      "source": [
        "LOGISTIC REGRESSION WITH PIPELINE"
      ],
      "metadata": {
        "id": "vyveSz1ZRDq6"
      }
    },
    {
      "cell_type": "code",
      "source": [
        "stages=[assembler1,scaler,lr_model]\n",
        "pipeline=Pipeline(stages=stages)\n",
        "final_pipeline = pipeline.fit(train_data)\n",
        "test_predictions_from_pipeline = final_pipeline.transform(test_data)\n",
        "evaluator = BinaryClassificationEvaluator(labelCol=\"Class\", rawPredictionCol=\"prediction\", metricName=\"areaUnderROC\")\n",
        "auc_regression_pipeline = evaluator.evaluate(predictions)\n",
        "print(f\"Area Under ROC\",auc_regression_pipeline)"
      ],
      "metadata": {
        "colab": {
          "base_uri": "https://localhost:8080/"
        },
        "id": "i3gn60W_PVpK",
        "outputId": "87979a51-5d97-4fea-bdeb-311a5f30614e"
      },
      "execution_count": null,
      "outputs": [
        {
          "output_type": "stream",
          "name": "stdout",
          "text": [
            "Area Under ROC 0.9385863571916191\n"
          ]
        }
      ]
    },
    {
      "cell_type": "markdown",
      "source": [
        "RANDOM FOREST WITH PIPELINE"
      ],
      "metadata": {
        "id": "LjFG2icPRJty"
      }
    },
    {
      "cell_type": "code",
      "source": [
        "stages=[assembler1,scaler,rf_model]\n",
        "pipeline=Pipeline(stages=stages)\n",
        "final_pipeline = pipeline.fit(train_data)\n",
        "test_predictions_from_pipeline = final_pipeline.transform(test_data)\n",
        "evaluator = BinaryClassificationEvaluator(labelCol=\"Class\", rawPredictionCol=\"prediction\", metricName=\"areaUnderROC\")\n",
        "auc_random_pipeline = evaluator.evaluate(predictions)\n",
        "print(f\"Area Under ROC\",auc_random_pipeline)"
      ],
      "metadata": {
        "colab": {
          "base_uri": "https://localhost:8080/"
        },
        "id": "kAsgcNZj1D_-",
        "outputId": "1932261c-350b-4de7-94a2-f5260906b974"
      },
      "execution_count": null,
      "outputs": [
        {
          "output_type": "stream",
          "name": "stdout",
          "text": [
            "Area Under ROC 0.9385863571916191\n"
          ]
        }
      ]
    },
    {
      "cell_type": "markdown",
      "source": [
        "GRADIENT_BOOSTED TREES WITH PIPELINE"
      ],
      "metadata": {
        "id": "bIZXajoERXrY"
      }
    },
    {
      "cell_type": "code",
      "source": [
        "\n",
        "stages_gbt = [assembler1, scaler, gbt]\n",
        "pipeline_gbt = Pipeline(stages=stages_gbt)\n",
        "pipelineModel_gbt = pipeline_gbt.fit(train_data)\n",
        "test_predictions_gbt = pipelineModel_gbt.transform(test_data)\n",
        "auc_gbt_pipeline = evaluator.evaluate(test_predictions_gbt)\n",
        "print(\"Area Under ROC:\", auc_gbt_pipeline)\n"
      ],
      "metadata": {
        "colab": {
          "base_uri": "https://localhost:8080/"
        },
        "id": "vw4bH2SG7mEL",
        "outputId": "95aebd28-c171-4eb5-ad27-e1b69c23cc7d"
      },
      "execution_count": null,
      "outputs": [
        {
          "output_type": "stream",
          "name": "stdout",
          "text": [
            "Area Under ROC: 0.9349367221551227\n"
          ]
        }
      ]
    },
    {
      "cell_type": "markdown",
      "source": [
        "LINEAR SVC WITH PIPELINE"
      ],
      "metadata": {
        "id": "0U987s1kRc-W"
      }
    },
    {
      "cell_type": "code",
      "source": [
        "\n",
        "stages_svc = [assembler1, scaler, svc]\n",
        "pipeline_svc = Pipeline(stages=stages_svc)\n",
        "pipelineModel_svc = pipeline_svc.fit(train_data)\n",
        "test_predictions_svc = pipelineModel_svc.transform(test_data)\n",
        "\n",
        "auc_svc_pipeline = evaluator.evaluate(test_predictions_svc)\n",
        "print(\"Area Under ROC (SVM with pipeline):\", auc_svc_pipeline)\n",
        "\n"
      ],
      "metadata": {
        "colab": {
          "base_uri": "https://localhost:8080/"
        },
        "id": "_g-piZm_7p-t",
        "outputId": "c7da853e-6a9e-4de5-d50e-5efdc7ae9cd0"
      },
      "execution_count": null,
      "outputs": [
        {
          "output_type": "stream",
          "name": "stdout",
          "text": [
            "Area Under ROC (SVM with pipeline): 0.9314971380559787\n"
          ]
        }
      ]
    },
    {
      "cell_type": "code",
      "source": [
        "models = ['Random Forest', 'Logistic Regression', 'Decision Tree', 'GBT', 'LinearSVC']\n",
        "auc_scores_pipeline = [auc_random_pipeline, auc_regression_pipeline, auc_decision_pipeline, auc_gbt_pipeline, auc_svc_pipeline]\n",
        "\n",
        "\n",
        "plt.figure(figsize=(10, 6))\n",
        "plt.bar(models, auc_scores_pipeline, color=['#1f77b4', '#ff7f0e', '#2ca02c', '#d62728', '#9467bd'])\n",
        "plt.xlabel('Models')\n",
        "plt.ylabel('Area Under ROC')\n",
        "plt.title('Comparison of AUC for ML Algorithms with Pipeline')\n",
        "plt.ylim([0.5, 1.0])\n",
        "for i, score in enumerate(auc_scores_pipeline):\n",
        "    plt.text(i, score, f\"{score:.2f}\", ha='center', va='bottom')\n",
        "plt.show()"
      ],
      "metadata": {
        "colab": {
          "base_uri": "https://localhost:8080/",
          "height": 564
        },
        "id": "Vc8JMp4GORA9",
        "outputId": "2b167b6c-65d6-403f-c53c-dcb2ddc04a48"
      },
      "execution_count": null,
      "outputs": [
        {
          "output_type": "display_data",
          "data": {
            "text/plain": [
              "<Figure size 1000x600 with 1 Axes>"
            ],
            "image/png": "[encoded data removed]"
          },
          "metadata": {}
        }
      ]
    },
    {
      "cell_type": "markdown",
      "source": [
        "## HYPERPARAMETER TUNING\n"
      ],
      "metadata": {
        "id": "3tVgp4Et5pk8"
      }
    },
    {
      "cell_type": "markdown",
      "source": [
        "RANDOM FOREST\n"
      ],
      "metadata": {
        "id": "a1SVAxe13fnJ"
      }
    },
    {
      "cell_type": "code",
      "source": [
        "from pyspark.ml.tuning import ParamGridBuilder, CrossValidator\n",
        "\n",
        "paramGrid_rf = (ParamGridBuilder()\n",
        "               .addGrid(rf.numTrees, [20, 50, 100])\n",
        "               .addGrid(rf.maxDepth, [5, 10, 15])\n",
        "               .addGrid(rf.minInfoGain, [0.0, 0.01])\n",
        "               .build())\n",
        "\n",
        "evaluator = BinaryClassificationEvaluator(labelCol=\"Class\", rawPredictionCol=\"rawPrediction\", metricName=\"areaUnderROC\")\n",
        "\n",
        "\n",
        "crossval_rf = CrossValidator(estimator=rf,\n",
        "                             estimatorParamMaps=paramGrid_rf,\n",
        "                             evaluator=evaluator,\n",
        "                             numFolds=5)\n",
        "\n",
        "\n",
        "cvModel_rf = crossval_rf.fit(train_data)\n",
        "\n",
        "bestModel_rf = cvModel_rf.bestModel\n",
        "print(bestModel_rf)\n",
        "best_predictions_rf = bestModel_rf.transform(test_data)\n",
        "best_auc_rf = evaluator.evaluate(best_predictions_rf)\n",
        "print(\"Best AUC for Random Forest:\", best_auc_rf)\n"
      ],
      "metadata": {
        "colab": {
          "base_uri": "https://localhost:8080/"
        },
        "id": "sH29SZ7V1aZb",
        "outputId": "269ab4e6-990b-47a5-d9f4-eae2563c8c8b"
      },
      "execution_count": null,
      "outputs": [
        {
          "output_type": "stream",
          "name": "stdout",
          "text": [
            "RandomForestClassificationModel: uid=RandomForestClassifier_a3f25ad3554f, numTrees=50, numClasses=2, numFeatures=30\n",
            "Best AUC for Random Forest: 0.9756340912671324\n"
          ]
        }
      ]
    },
    {
      "cell_type": "code",
      "source": [
        "best_num_trees = bestModel_rf.getOrDefault('numTrees')\n",
        "best_max_depth = bestModel_rf.getOrDefault('maxDepth')\n",
        "\n",
        "print(\"Best numTrees:\", best_num_trees)\n",
        "print(\"Best maxDepth:\", best_max_depth)"
      ],
      "metadata": {
        "colab": {
          "base_uri": "https://localhost:8080/"
        },
        "id": "46DOuDASNfTs",
        "outputId": "d668ecd2-002e-44aa-91a2-74a5327b0c6d"
      },
      "execution_count": null,
      "outputs": [
        {
          "output_type": "stream",
          "name": "stdout",
          "text": [
            "Best numTrees: 50\n",
            "Best maxDepth: 15\n"
          ]
        }
      ]
    },
    {
      "cell_type": "markdown",
      "source": [
        "DESICION TREE"
      ],
      "metadata": {
        "id": "ZKf_MYR13ijK"
      }
    },
    {
      "cell_type": "code",
      "source": [
        "\n",
        "from pyspark.ml.tuning import CrossValidator, ParamGridBuilder\n",
        "\n",
        "dt = DecisionTreeClassifier(labelCol=\"Class\", featuresCol=\"features\")\n",
        "\n",
        "\n",
        "paramGrid = ParamGridBuilder()\n",
        "    .addGrid(dt.maxDepth, [5, 10, 20])\n",
        "    .addGrid(dt.maxBins, [25, 35])\n",
        "    .addGrid(dt.minInfoGain, [0.0, 0.01, 0.1])\n",
        "    .addGrid(dt.minInstancesPerNode, [1, 2, 5])\n",
        "    .build()\n",
        "\n",
        "\n",
        "evaluator = BinaryClassificationEvaluator(labelCol=\"Class\", rawPredictionCol=\"rawPrediction\", metricName=\"areaUnderROC\")\n",
        "\n",
        "cv = CrossValidator(estimator=dt, estimatorParamMaps=paramGrid, evaluator=evaluator, numFolds=5)\n",
        "\n",
        "cvModel = cv.fit(train_data)\n",
        "\n",
        "bestModel_dt = cvModel.bestModel\n",
        "print(bestModel_dt)\n",
        "predictions = cvModel.transform(test_data)\n",
        "auc = evaluator.evaluate(predictions)\n",
        "print(f\"Area Under ROC: {auc}\")\n"
      ],
      "metadata": {
        "colab": {
          "base_uri": "https://localhost:8080/",
          "height": 141
        },
        "id": "_sse06a05zoO",
        "outputId": "3bf1b877-abdd-4524-b45a-51ce52428757"
      },
      "execution_count": null,
      "outputs": [
        {
          "output_type": "error",
          "ename": "IndentationError",
          "evalue": "ignored",
          "traceback": [
            "\u001b[0;36m  File \u001b[0;32m\"<ipython-input-33-447d271bc6a1>\"\u001b[0;36m, line \u001b[0;32m7\u001b[0m\n\u001b[0;31m    .addGrid(dt.maxDepth, [5, 10, 20])\u001b[0m\n\u001b[0m    ^\u001b[0m\n\u001b[0;31mIndentationError\u001b[0m\u001b[0;31m:\u001b[0m unexpected indent\n"
          ]
        }
      ]
    },
    {
      "cell_type": "code",
      "source": [
        "best_max_depth = bestModel_dt.getOrDefault('maxDepth')\n",
        "best_max_bins = bestModel_dt.getOrDefault('maxBins')\n",
        "best_min_info_gain = bestModel_dt.getOrDefault('minInfoGain')\n",
        "best_min_instances_per_node = bestModel_dt.getOrDefault('minInstancesPerNode')\n",
        "\n",
        "print(\"Best maxDepth:\", best_max_depth)\n",
        "print(\"Best maxBins:\", best_max_bins)\n",
        "print(\"Best minInfoGain:\", best_min_info_gain)\n",
        "print(\"Best minInstancesPerNode:\", best_min_instances_per_node)"
      ],
      "metadata": {
        "id": "5lzlWxZaOEQU"
      },
      "execution_count": null,
      "outputs": []
    },
    {
      "cell_type": "markdown",
      "source": [
        "LOGISTIC REGRESSION"
      ],
      "metadata": {
        "id": "8oxnpJ103lR1"
      }
    },
    {
      "cell_type": "code",
      "source": [
        "\n",
        "lr = LogisticRegression(labelCol=\"Class\", featuresCol=\"features\")\n",
        "\n",
        "paramGrid_lr = (ParamGridBuilder()\n",
        "                .addGrid(lr.elasticNetParam, [0.0, 0.5, 1.0])\n",
        "                .addGrid(lr.regParam, [0.01, 0.1, 0.5])\n",
        "                .build())\n",
        "\n",
        "crossval_lr = CrossValidator(estimator=lr,\n",
        "                             estimatorParamMaps=paramGrid_lr,\n",
        "                             evaluator=evaluator,\n",
        "                             numFolds=5)\n",
        "\n",
        "cvModel_lr = crossval_lr.fit(train_data)\n",
        "bestModel_lr = cvModel_lr.bestModel\n",
        "print(bestModel_lr)\n",
        "predictions = bestModel_lr.transform(test_data)\n",
        "best_auc_lr = evaluator.evaluate(predictions)\n",
        "print(f\"Best AUC for LR: {best_auc_lr}\")\n"
      ],
      "metadata": {
        "id": "RZGOPA8q6ZR5"
      },
      "execution_count": null,
      "outputs": []
    },
    {
      "cell_type": "code",
      "source": [
        "\n",
        "best_elastic_net_param = bestModel_lr.getOrDefault('elasticNetParam')\n",
        "best_reg_param = bestModel_lr.getOrDefault('regParam')\n",
        "\n",
        "print(\"Best elasticNetParam:\", best_elastic_net_param)\n",
        "print(\"Best regParam:\", best_reg_param)\n"
      ],
      "metadata": {
        "id": "mDiVin-uOjSe"
      },
      "execution_count": null,
      "outputs": []
    },
    {
      "cell_type": "markdown",
      "source": [
        "GRADIENT BOOSTED TREE"
      ],
      "metadata": {
        "id": "LVUsHgNC3pBO"
      }
    },
    {
      "cell_type": "code",
      "source": [
        "\n",
        "gbt = GBTClassifier(labelCol=\"Class\", featuresCol=\"features\")\n",
        "\n",
        "paramGrid_gbt = (ParamGridBuilder()\n",
        "                 .addGrid(gbt.maxDepth, [2, 4, 6])\n",
        "                 .addGrid(gbt.maxBins, [20, 32])\n",
        "                 .addGrid(gbt.maxIter, [10, 20])\n",
        "                 .build())\n",
        "\n",
        "\n",
        "crossval_gbt = CrossValidator(estimator=gbt,\n",
        "                              estimatorParamMaps=paramGrid_gbt,\n",
        "                              evaluator=evaluator,\n",
        "                              numFolds=5)\n",
        "\n",
        "cvModel_gbt = crossval_gbt.fit(train_data)\n",
        "\n",
        "bestModel_gbt = cvModel_gbt.bestModel\n",
        "print(bestModel_gbt)\n",
        "predictions = bestModel_gbt.transform(test_data)\n",
        "best_auc_gbt = evaluator.evaluate(predictions)\n",
        "print(f\"Best AUC for GBT: {best_auc_gbt}\")\n"
      ],
      "metadata": {
        "id": "0DMoGi4D7N_f"
      },
      "execution_count": null,
      "outputs": []
    },
    {
      "cell_type": "code",
      "source": [
        "best_max_depth = bestModel_gbt.getOrDefault('maxDepth')\n",
        "best_max_bins = bestModel_gbt.getOrDefault('maxBins')\n",
        "best_max_iter = bestModel_gbt.getOrDefault('maxIter')\n",
        "\n",
        "print(\"Best maxDepth:\", best_max_depth)\n",
        "print(\"Best maxBins:\", best_max_bins)\n",
        "print(\"Best maxIter:\", best_max_iter)"
      ],
      "metadata": {
        "id": "Ysr5azIVOk9Q"
      },
      "execution_count": null,
      "outputs": []
    },
    {
      "cell_type": "markdown",
      "source": [
        "LINEAR SVC"
      ],
      "metadata": {
        "id": "Hh7O0fwm3ub8"
      }
    },
    {
      "cell_type": "code",
      "source": [
        "\n",
        "\n",
        "\n",
        "paramGrid_svc = (ParamGridBuilder()\n",
        "                 .addGrid(svc.maxIter, [10, 50, 100])\n",
        "                 .addGrid(svc.regParam, [0.01, 0.1, 0.5])\n",
        "                 .build())\n",
        "\n",
        "\n",
        "crossval_svc = CrossValidator(estimator=svc,\n",
        "                              estimatorParamMaps=paramGrid_svc,\n",
        "                              evaluator=evaluator,\n",
        "                              numFolds=5)\n",
        "\n",
        "\n",
        "cvModel_svc = crossval_svc.fit(train_data)\n",
        "\n",
        "\n",
        "bestModel_svc = cvModel_svc.bestModel\n",
        "print(bestModel_svc)\n",
        "predictions = bestModel_svc.transform(test_data)\n",
        "best_auc_svc = evaluator.evaluate(predictions)\n",
        "print(f\"Best AUC for SVC: {best_auc_svc}\")\n"
      ],
      "metadata": {
        "id": "d6iRXccl_bxL"
      },
      "execution_count": null,
      "outputs": []
    },
    {
      "cell_type": "code",
      "source": [
        "\n",
        "best_max_iter = bestModel_svc.getOrDefault('maxIter')\n",
        "best_reg_param = bestModel_svc.getOrDefault('regParam')\n",
        "\n",
        "print(\"Best maxIter:\", best_max_iter)\n",
        "print(\"Best regParam:\", best_reg_param)\n"
      ],
      "metadata": {
        "id": "HCAfVsUIO-te"
      },
      "execution_count": null,
      "outputs": []
    },
    {
      "cell_type": "code",
      "source": [
        "\n",
        "model_names = ['Random Forest', 'GBT', 'LinearSVC', 'Logistic Regression', 'Decision Tree']\n",
        "auc_scores = [best_auc_rf, best_auc_gbt, best_auc_svc, best_auc_lr, auc]\n",
        "\n",
        "import matplotlib.pyplot as plt\n",
        "\n",
        "plt.figure(figsize=(10, 6))\n",
        "bar = plt.bar(model_names, auc_scores, color=['#1f77b4', '#ff7f0e', '#2ca02c', '#d62728', '#9467bd'])\n",
        "plt.xlabel('Models')\n",
        "plt.ylabel('Area Under ROC')\n",
        "plt.title('Comparison of AUC for Different Models After Hyperparameter Tuning')\n",
        "plt.ylim([min(auc_scores) - 0.05, max(auc_scores) + 0.05])\n",
        "\n",
        "for rect in bar:\n",
        "    height = rect.get_height()\n",
        "    plt.text(rect.get_x() + rect.get_width() / 2.0, height, f'{height:.4f}', ha='center', va='bottom')\n",
        "\n",
        "plt.show()\n"
      ],
      "metadata": {
        "id": "JYB_iheu_2Nj"
      },
      "execution_count": null,
      "outputs": []
    },
    {
      "cell_type": "code",
      "source": [
        "import matplotlib.pyplot as plt\n",
        "\n",
        "\n",
        "auc_without_pipeline = [auc_randomForest, auc_gbt, auc_svc, auc_regression, auc_decision]\n",
        "auc_with_pipeline = [auc_random_pipeline, auc_gbt_pipeline, auc_svc_pipeline, auc_regression_pipeline, auc_decision_pipeline]\n",
        "auc_with_hyperparam_tuning = [best_auc_rf, best_auc_gbt, best_auc_svc, best_auc_lr, auc]\n",
        "\n",
        "model_names = ['Random Forest', 'GBT', 'LinearSVC', 'Logistic Regression', 'Decision Tree']\n",
        "\n",
        "\n",
        "plt.figure(figsize=(14, 7))\n",
        "\n",
        "\n",
        "x_indexes = range(len(model_names))\n",
        "\n",
        "plt.plot(x_indexes, auc_without_pipeline, label='Without Pipeline', marker='o')\n",
        "plt.plot(x_indexes, auc_with_pipeline, label='With Pipeline', marker='s')\n",
        "plt.plot(x_indexes, auc_with_hyperparam_tuning, label='With Hyperparameter Tuning', marker='^')\n",
        "\n",
        "# Add labels and title\n",
        "plt.xlabel('Models')\n",
        "plt.ylabel('AUC Score')\n",
        "plt.title('Comparison of AUC Scores')\n",
        "\n",
        "# Add legend\n",
        "plt.legend()\n",
        "\n",
        "# Set the position of the x ticks\n",
        "plt.xticks(ticks=x_indexes, labels=model_names)\n",
        "\n",
        "# Show the plot\n",
        "plt.grid(True)\n",
        "plt.show()\n"
      ],
      "metadata": {
        "id": "3DW7HXIaR4wO"
      },
      "execution_count": null,
      "outputs": []
    },
    {
      "cell_type": "code",
      "source": [],
      "metadata": {
        "id": "-iV4Pt0nfV4f"
      },
      "execution_count": null,
      "outputs": []
    }
  ]
}